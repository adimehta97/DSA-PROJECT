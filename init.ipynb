{
 "cells": [
  {
   "cell_type": "code",
   "execution_count": 66,
   "metadata": {},
   "outputs": [],
   "source": [
    "import pandas as pd\n",
    "import numpy as np \n",
    "import seaborn as sns\n",
    "from sklearn.linear_model import LogisticRegression\n",
    "from sklearn.model_selection import train_test_split\n",
    "from sklearn.neighbors import KNeighborsClassifier\n",
    "from sklearn.svm import SVC\n"
   ]
  },
  {
   "cell_type": "code",
   "execution_count": 8,
   "metadata": {},
   "outputs": [],
   "source": [
    "data=pd.read_csv('/Users/adityamehta/Projects/DSA PROJECT/MushroomDataset/secondary_data.csv',sep=';')"
   ]
  },
  {
   "cell_type": "code",
   "execution_count": 10,
   "metadata": {},
   "outputs": [
    {
     "name": "stdout",
     "output_type": "stream",
     "text": [
      "<class 'pandas.core.frame.DataFrame'>\n",
      "RangeIndex: 61069 entries, 0 to 61068\n",
      "Data columns (total 21 columns):\n",
      " #   Column                Non-Null Count  Dtype  \n",
      "---  ------                --------------  -----  \n",
      " 0   class                 61069 non-null  object \n",
      " 1   cap-diameter          61069 non-null  float64\n",
      " 2   cap-shape             61069 non-null  object \n",
      " 3   cap-surface           46949 non-null  object \n",
      " 4   cap-color             61069 non-null  object \n",
      " 5   does-bruise-or-bleed  61069 non-null  object \n",
      " 6   gill-attachment       51185 non-null  object \n",
      " 7   gill-spacing          36006 non-null  object \n",
      " 8   gill-color            61069 non-null  object \n",
      " 9   stem-height           61069 non-null  float64\n",
      " 10  stem-width            61069 non-null  float64\n",
      " 11  stem-root             9531 non-null   object \n",
      " 12  stem-surface          22945 non-null  object \n",
      " 13  stem-color            61069 non-null  object \n",
      " 14  veil-type             3177 non-null   object \n",
      " 15  veil-color            7413 non-null   object \n",
      " 16  has-ring              61069 non-null  object \n",
      " 17  ring-type             58598 non-null  object \n",
      " 18  spore-print-color     6354 non-null   object \n",
      " 19  habitat               61069 non-null  object \n",
      " 20  season                61069 non-null  object \n",
      "dtypes: float64(3), object(18)\n",
      "memory usage: 9.8+ MB\n"
     ]
    }
   ],
   "source": [
    "data.info()"
   ]
  },
  {
   "cell_type": "code",
   "execution_count": 13,
   "metadata": {},
   "outputs": [],
   "source": [
    "data.drop(['cap-surface','gill-attachment','gill-spacing','stem-root','stem-surface','veil-type','veil-color','ring-type','spore-print-color'],axis=1, inplace=True)"
   ]
  },
  {
   "cell_type": "code",
   "execution_count": 14,
   "metadata": {},
   "outputs": [
    {
     "name": "stdout",
     "output_type": "stream",
     "text": [
      "<class 'pandas.core.frame.DataFrame'>\n",
      "RangeIndex: 61069 entries, 0 to 61068\n",
      "Data columns (total 12 columns):\n",
      " #   Column                Non-Null Count  Dtype  \n",
      "---  ------                --------------  -----  \n",
      " 0   class                 61069 non-null  object \n",
      " 1   cap-diameter          61069 non-null  float64\n",
      " 2   cap-shape             61069 non-null  object \n",
      " 3   cap-color             61069 non-null  object \n",
      " 4   does-bruise-or-bleed  61069 non-null  object \n",
      " 5   gill-color            61069 non-null  object \n",
      " 6   stem-height           61069 non-null  float64\n",
      " 7   stem-width            61069 non-null  float64\n",
      " 8   stem-color            61069 non-null  object \n",
      " 9   has-ring              61069 non-null  object \n",
      " 10  habitat               61069 non-null  object \n",
      " 11  season                61069 non-null  object \n",
      "dtypes: float64(3), object(9)\n",
      "memory usage: 5.6+ MB\n"
     ]
    }
   ],
   "source": [
    "data.info()"
   ]
  },
  {
   "cell_type": "code",
   "execution_count": 15,
   "metadata": {},
   "outputs": [
    {
     "data": {
      "text/plain": [
       "array(['p', 'e'], dtype=object)"
      ]
     },
     "execution_count": 15,
     "metadata": {},
     "output_type": "execute_result"
    }
   ],
   "source": [
    "data[\"class\"].unique()"
   ]
  },
  {
   "cell_type": "code",
   "execution_count": 16,
   "metadata": {},
   "outputs": [],
   "source": [
    "# Changing class values to \"1\" and \"0\"s.\n",
    "data[\"class\"] = [1 if i == \"p\" else 0 for i in data[\"class\"]]"
   ]
  },
  {
   "cell_type": "code",
   "execution_count": 17,
   "metadata": {},
   "outputs": [
    {
     "data": {
      "text/html": [
       "<div>\n",
       "<style scoped>\n",
       "    .dataframe tbody tr th:only-of-type {\n",
       "        vertical-align: middle;\n",
       "    }\n",
       "\n",
       "    .dataframe tbody tr th {\n",
       "        vertical-align: top;\n",
       "    }\n",
       "\n",
       "    .dataframe thead th {\n",
       "        text-align: right;\n",
       "    }\n",
       "</style>\n",
       "<table border=\"1\" class=\"dataframe\">\n",
       "  <thead>\n",
       "    <tr style=\"text-align: right;\">\n",
       "      <th></th>\n",
       "      <th>class</th>\n",
       "      <th>cap-diameter</th>\n",
       "      <th>cap-shape</th>\n",
       "      <th>cap-color</th>\n",
       "      <th>does-bruise-or-bleed</th>\n",
       "      <th>gill-color</th>\n",
       "      <th>stem-height</th>\n",
       "      <th>stem-width</th>\n",
       "      <th>stem-color</th>\n",
       "      <th>has-ring</th>\n",
       "      <th>habitat</th>\n",
       "      <th>season</th>\n",
       "    </tr>\n",
       "  </thead>\n",
       "  <tbody>\n",
       "    <tr>\n",
       "      <th>0</th>\n",
       "      <td>1</td>\n",
       "      <td>15.26</td>\n",
       "      <td>x</td>\n",
       "      <td>o</td>\n",
       "      <td>f</td>\n",
       "      <td>w</td>\n",
       "      <td>16.95</td>\n",
       "      <td>17.09</td>\n",
       "      <td>w</td>\n",
       "      <td>t</td>\n",
       "      <td>d</td>\n",
       "      <td>w</td>\n",
       "    </tr>\n",
       "    <tr>\n",
       "      <th>1</th>\n",
       "      <td>1</td>\n",
       "      <td>16.60</td>\n",
       "      <td>x</td>\n",
       "      <td>o</td>\n",
       "      <td>f</td>\n",
       "      <td>w</td>\n",
       "      <td>17.99</td>\n",
       "      <td>18.19</td>\n",
       "      <td>w</td>\n",
       "      <td>t</td>\n",
       "      <td>d</td>\n",
       "      <td>u</td>\n",
       "    </tr>\n",
       "    <tr>\n",
       "      <th>2</th>\n",
       "      <td>1</td>\n",
       "      <td>14.07</td>\n",
       "      <td>x</td>\n",
       "      <td>o</td>\n",
       "      <td>f</td>\n",
       "      <td>w</td>\n",
       "      <td>17.80</td>\n",
       "      <td>17.74</td>\n",
       "      <td>w</td>\n",
       "      <td>t</td>\n",
       "      <td>d</td>\n",
       "      <td>w</td>\n",
       "    </tr>\n",
       "    <tr>\n",
       "      <th>3</th>\n",
       "      <td>1</td>\n",
       "      <td>14.17</td>\n",
       "      <td>f</td>\n",
       "      <td>e</td>\n",
       "      <td>f</td>\n",
       "      <td>w</td>\n",
       "      <td>15.77</td>\n",
       "      <td>15.98</td>\n",
       "      <td>w</td>\n",
       "      <td>t</td>\n",
       "      <td>d</td>\n",
       "      <td>w</td>\n",
       "    </tr>\n",
       "    <tr>\n",
       "      <th>4</th>\n",
       "      <td>1</td>\n",
       "      <td>14.64</td>\n",
       "      <td>x</td>\n",
       "      <td>o</td>\n",
       "      <td>f</td>\n",
       "      <td>w</td>\n",
       "      <td>16.53</td>\n",
       "      <td>17.20</td>\n",
       "      <td>w</td>\n",
       "      <td>t</td>\n",
       "      <td>d</td>\n",
       "      <td>w</td>\n",
       "    </tr>\n",
       "  </tbody>\n",
       "</table>\n",
       "</div>"
      ],
      "text/plain": [
       "   class  cap-diameter cap-shape cap-color does-bruise-or-bleed gill-color   \n",
       "0      1         15.26         x         o                    f          w  \\\n",
       "1      1         16.60         x         o                    f          w   \n",
       "2      1         14.07         x         o                    f          w   \n",
       "3      1         14.17         f         e                    f          w   \n",
       "4      1         14.64         x         o                    f          w   \n",
       "\n",
       "   stem-height  stem-width stem-color has-ring habitat season  \n",
       "0        16.95       17.09          w        t       d      w  \n",
       "1        17.99       18.19          w        t       d      u  \n",
       "2        17.80       17.74          w        t       d      w  \n",
       "3        15.77       15.98          w        t       d      w  \n",
       "4        16.53       17.20          w        t       d      w  "
      ]
     },
     "execution_count": 17,
     "metadata": {},
     "output_type": "execute_result"
    }
   ],
   "source": [
    "data.head()"
   ]
  },
  {
   "cell_type": "code",
   "execution_count": 48,
   "metadata": {},
   "outputs": [
    {
     "data": {
      "text/plain": [
       "array(['x', 'f', 'p', 'b', 'c', 's', 'o'], dtype=object)"
      ]
     },
     "execution_count": 48,
     "metadata": {},
     "output_type": "execute_result"
    }
   ],
   "source": [
    "data['cap-shape'].unique()"
   ]
  },
  {
   "cell_type": "code",
   "execution_count": 25,
   "metadata": {},
   "outputs": [],
   "source": [
    "Y=data['class']\n",
    "X=data.drop(['class'],axis=1)\n"
   ]
  },
  {
   "cell_type": "code",
   "execution_count": 26,
   "metadata": {},
   "outputs": [
    {
     "name": "stdout",
     "output_type": "stream",
     "text": [
      "<class 'pandas.core.frame.DataFrame'>\n",
      "RangeIndex: 61069 entries, 0 to 61068\n",
      "Data columns (total 55 columns):\n",
      " #   Column                  Non-Null Count  Dtype  \n",
      "---  ------                  --------------  -----  \n",
      " 0   cap-diameter            61069 non-null  float64\n",
      " 1   stem-height             61069 non-null  float64\n",
      " 2   stem-width              61069 non-null  float64\n",
      " 3   cap-shape_c             61069 non-null  int64  \n",
      " 4   cap-shape_f             61069 non-null  int64  \n",
      " 5   cap-shape_o             61069 non-null  int64  \n",
      " 6   cap-shape_p             61069 non-null  int64  \n",
      " 7   cap-shape_s             61069 non-null  int64  \n",
      " 8   cap-shape_x             61069 non-null  int64  \n",
      " 9   cap-color_e             61069 non-null  int64  \n",
      " 10  cap-color_g             61069 non-null  int64  \n",
      " 11  cap-color_k             61069 non-null  int64  \n",
      " 12  cap-color_l             61069 non-null  int64  \n",
      " 13  cap-color_n             61069 non-null  int64  \n",
      " 14  cap-color_o             61069 non-null  int64  \n",
      " 15  cap-color_p             61069 non-null  int64  \n",
      " 16  cap-color_r             61069 non-null  int64  \n",
      " 17  cap-color_u             61069 non-null  int64  \n",
      " 18  cap-color_w             61069 non-null  int64  \n",
      " 19  cap-color_y             61069 non-null  int64  \n",
      " 20  does-bruise-or-bleed_t  61069 non-null  int64  \n",
      " 21  gill-color_e            61069 non-null  int64  \n",
      " 22  gill-color_f            61069 non-null  int64  \n",
      " 23  gill-color_g            61069 non-null  int64  \n",
      " 24  gill-color_k            61069 non-null  int64  \n",
      " 25  gill-color_n            61069 non-null  int64  \n",
      " 26  gill-color_o            61069 non-null  int64  \n",
      " 27  gill-color_p            61069 non-null  int64  \n",
      " 28  gill-color_r            61069 non-null  int64  \n",
      " 29  gill-color_u            61069 non-null  int64  \n",
      " 30  gill-color_w            61069 non-null  int64  \n",
      " 31  gill-color_y            61069 non-null  int64  \n",
      " 32  stem-color_e            61069 non-null  int64  \n",
      " 33  stem-color_f            61069 non-null  int64  \n",
      " 34  stem-color_g            61069 non-null  int64  \n",
      " 35  stem-color_k            61069 non-null  int64  \n",
      " 36  stem-color_l            61069 non-null  int64  \n",
      " 37  stem-color_n            61069 non-null  int64  \n",
      " 38  stem-color_o            61069 non-null  int64  \n",
      " 39  stem-color_p            61069 non-null  int64  \n",
      " 40  stem-color_r            61069 non-null  int64  \n",
      " 41  stem-color_u            61069 non-null  int64  \n",
      " 42  stem-color_w            61069 non-null  int64  \n",
      " 43  stem-color_y            61069 non-null  int64  \n",
      " 44  has-ring_t              61069 non-null  int64  \n",
      " 45  habitat_g               61069 non-null  int64  \n",
      " 46  habitat_h               61069 non-null  int64  \n",
      " 47  habitat_l               61069 non-null  int64  \n",
      " 48  habitat_m               61069 non-null  int64  \n",
      " 49  habitat_p               61069 non-null  int64  \n",
      " 50  habitat_u               61069 non-null  int64  \n",
      " 51  habitat_w               61069 non-null  int64  \n",
      " 52  season_s                61069 non-null  int64  \n",
      " 53  season_u                61069 non-null  int64  \n",
      " 54  season_w                61069 non-null  int64  \n",
      "dtypes: float64(3), int64(52)\n",
      "memory usage: 25.6 MB\n"
     ]
    }
   ],
   "source": [
    "final = pd.get_dummies(data=X, drop_first=True, dtype=int)\n",
    "final.info()"
   ]
  },
  {
   "cell_type": "code",
   "execution_count": 53,
   "metadata": {},
   "outputs": [
    {
     "name": "stdout",
     "output_type": "stream",
     "text": [
      "Index(['cap-diameter', 'stem-height', 'stem-width', 'cap-shape_c',\n",
      "       'cap-shape_f', 'cap-shape_o', 'cap-shape_p', 'cap-shape_s',\n",
      "       'cap-shape_x', 'cap-color_e', 'cap-color_g', 'cap-color_k',\n",
      "       'cap-color_l', 'cap-color_n', 'cap-color_o', 'cap-color_p',\n",
      "       'cap-color_r', 'cap-color_u', 'cap-color_w', 'cap-color_y',\n",
      "       'does-bruise-or-bleed_t', 'gill-color_e', 'gill-color_f',\n",
      "       'gill-color_g', 'gill-color_k', 'gill-color_n', 'gill-color_o',\n",
      "       'gill-color_p', 'gill-color_r', 'gill-color_u', 'gill-color_w',\n",
      "       'gill-color_y', 'stem-color_e', 'stem-color_f', 'stem-color_g',\n",
      "       'stem-color_k', 'stem-color_l', 'stem-color_n', 'stem-color_o',\n",
      "       'stem-color_p', 'stem-color_r', 'stem-color_u', 'stem-color_w',\n",
      "       'stem-color_y', 'has-ring_t', 'habitat_g', 'habitat_h', 'habitat_l',\n",
      "       'habitat_m', 'habitat_p', 'habitat_u', 'habitat_w', 'season_s',\n",
      "       'season_u', 'season_w'],\n",
      "      dtype='object')\n"
     ]
    }
   ],
   "source": [
    "print(final.columns)"
   ]
  },
  {
   "cell_type": "code",
   "execution_count": 54,
   "metadata": {},
   "outputs": [],
   "source": [
    "final.drop(['cap-shape_x','cap-color_y','gill-color_y','stem-color_y', 'habitat_w','season_w' ], axis=1, inplace=True)"
   ]
  },
  {
   "cell_type": "code",
   "execution_count": 56,
   "metadata": {},
   "outputs": [
    {
     "data": {
      "text/plain": [
       "(61069, 49)"
      ]
     },
     "execution_count": 56,
     "metadata": {},
     "output_type": "execute_result"
    }
   ],
   "source": [
    "final.shape"
   ]
  },
  {
   "cell_type": "code",
   "execution_count": 57,
   "metadata": {},
   "outputs": [],
   "source": [
    "def get_redundant_pairs(df):\n",
    "    '''Get diagonal and lower triangular pairs of correlation matrix'''\n",
    "    pairs_to_drop = set()\n",
    "    cols = df.columns\n",
    "    for i in range(0, df.shape[1]):\n",
    "        for j in range(0, i+1):\n",
    "            pairs_to_drop.add((cols[i], cols[j]))\n",
    "    return pairs_to_drop\n",
    "\n",
    "def get_top_abs_correlations(df, n=5):\n",
    "    au_corr = df.corr().abs().unstack()\n",
    "    labels_to_drop = get_redundant_pairs(df)\n",
    "    au_corr = au_corr.drop(labels=labels_to_drop).sort_values(ascending=False)\n",
    "    return au_corr[0:n]\n"
   ]
  },
  {
   "cell_type": "code",
   "execution_count": 85,
   "metadata": {},
   "outputs": [
    {
     "data": {
      "text/plain": [
       "cap-diameter  stem-width                0.695330\n",
       "cap-shape_o   gill-color_f              0.562095\n",
       "              stem-color_f              0.542055\n",
       "cap-color_p   stem-color_p              0.524449\n",
       "stem-color_n  stem-color_w              0.502443\n",
       "stem-height   stem-width                0.436117\n",
       "cap-diameter  stem-height               0.422560\n",
       "cap-color_o   stem-color_o              0.347330\n",
       "gill-color_f  stem-color_f              0.346584\n",
       "gill-color_e  stem-color_e              0.345166\n",
       "cap-color_u   stem-color_u              0.343835\n",
       "gill-color_p  stem-color_p              0.339850\n",
       "cap-color_o   gill-color_o              0.310402\n",
       "cap-color_n   cap-color_w               0.307147\n",
       "              stem-color_n              0.305098\n",
       "cap-color_w   stem-color_w              0.295287\n",
       "cap-color_e   stem-color_e              0.291157\n",
       "gill-color_n  gill-color_w              0.285733\n",
       "stem-height   cap-shape_p               0.284997\n",
       "              has-ring_t                0.281049\n",
       "cap-color_u   gill-color_u              0.272599\n",
       "cap-shape_s   does-bruise-or-bleed_t    0.260575\n",
       "gill-color_u  stem-color_u              0.260536\n",
       "stem-height   stem-color_f              0.259439\n",
       "              cap-shape_o               0.257949\n",
       "gill-color_w  stem-color_w              0.252994\n",
       "cap-color_l   stem-color_l              0.235367\n",
       "gill-color_o  stem-color_o              0.232445\n",
       "cap-color_p   gill-color_p              0.231228\n",
       "cap-color_g   cap-color_n               0.226443\n",
       "              gill-color_g              0.217473\n",
       "gill-color_p  gill-color_w              0.217436\n",
       "cap-color_e   cap-color_n               0.215625\n",
       "gill-color_r  stem-color_r              0.211903\n",
       "stem-width    habitat_g                 0.208958\n",
       "cap-diameter  stem-color_k              0.205485\n",
       "cap-color_n   cap-color_o               0.204570\n",
       "cap-shape_p   habitat_m                 0.200687\n",
       "cap-color_e   gill-color_e              0.196590\n",
       "cap-shape_f   cap-shape_s               0.193322\n",
       "dtype: float64"
      ]
     },
     "execution_count": 85,
     "metadata": {},
     "output_type": "execute_result"
    }
   ],
   "source": [
    "get_top_abs_correlations(final,40)"
   ]
  },
  {
   "cell_type": "code",
   "execution_count": 41,
   "metadata": {},
   "outputs": [],
   "source": [
    "x_train, x_test, y_train, y_test = train_test_split(final,Y,random_state=42,test_size=0.2)    # Split data for train and test."
   ]
  },
  {
   "cell_type": "code",
   "execution_count": 42,
   "metadata": {},
   "outputs": [
    {
     "name": "stdout",
     "output_type": "stream",
     "text": [
      "Test Accuracy: 73.09%\n"
     ]
    },
    {
     "name": "stderr",
     "output_type": "stream",
     "text": [
      "/Library/Frameworks/Python.framework/Versions/3.10/lib/python3.10/site-packages/sklearn/linear_model/_logistic.py:460: ConvergenceWarning: lbfgs failed to converge (status=1):\n",
      "STOP: TOTAL NO. of ITERATIONS REACHED LIMIT.\n",
      "\n",
      "Increase the number of iterations (max_iter) or scale the data as shown in:\n",
      "    https://scikit-learn.org/stable/modules/preprocessing.html\n",
      "Please also refer to the documentation for alternative solver options:\n",
      "    https://scikit-learn.org/stable/modules/linear_model.html#logistic-regression\n",
      "  n_iter_i = _check_optimize_result(\n"
     ]
    }
   ],
   "source": [
    "lr = LogisticRegression(solver=\"lbfgs\")\n",
    "lr.fit(x_train,y_train)\n",
    "print(\"Test Accuracy: {}%\".format(round(lr.score(x_test,y_test)*100,2)))"
   ]
  },
  {
   "cell_type": "code",
   "execution_count": 44,
   "metadata": {},
   "outputs": [
    {
     "name": "stdout",
     "output_type": "stream",
     "text": [
      "Best KNN Value: 1\n",
      "Test Accuracy: 100.0%\n"
     ]
    }
   ],
   "source": [
    "best_Kvalue = 0\n",
    "best_score = 0\n",
    "for i in range(1,10):\n",
    "    knn = KNeighborsClassifier(n_neighbors=i)\n",
    "    knn.fit(x_train,y_train)\n",
    "    if knn.score(x_test,y_test) > best_score:\n",
    "        best_score = knn.score(x_train,y_train)\n",
    "        best_Kvalue = i\n",
    "print(\"\"\"Best KNN Value: {}\n",
    "Test Accuracy: {}%\"\"\".format(best_Kvalue, round(best_score*100,2)))"
   ]
  },
  {
   "cell_type": "code",
   "execution_count": 47,
   "metadata": {},
   "outputs": [
    {
     "name": "stdout",
     "output_type": "stream",
     "text": [
      "Best KNN Value: 2\n",
      "Test Accuracy: 99.63%\n"
     ]
    }
   ],
   "source": [
    "best_Kvalue = 0\n",
    "best_score = 0\n",
    "knn = KNeighborsClassifier(n_neighbors=3)\n",
    "knn.fit(x_train,y_train)\n",
    "best_score = knn.score(x_train,y_train)\n",
    "print(\"\"\"Best KNN Value: {}\n",
    "Test Accuracy: {}%\"\"\".format(2, round(best_score*100,2)))"
   ]
  },
  {
   "cell_type": "code",
   "execution_count": 45,
   "metadata": {},
   "outputs": [
    {
     "name": "stdout",
     "output_type": "stream",
     "text": [
      "Test Accuracy: 96.52%\n"
     ]
    }
   ],
   "source": [
    "svm = SVC(random_state=42, gamma=\"auto\")\n",
    "svm.fit(x_train,y_train)\n",
    "print(\"Test Accuracy: {}%\".format(round(svm.score(x_test,y_test)*100,2)))"
   ]
  }
 ],
 "metadata": {
  "kernelspec": {
   "display_name": "Python 3",
   "language": "python",
   "name": "python3"
  },
  "language_info": {
   "codemirror_mode": {
    "name": "ipython",
    "version": 3
   },
   "file_extension": ".py",
   "mimetype": "text/x-python",
   "name": "python",
   "nbconvert_exporter": "python",
   "pygments_lexer": "ipython3",
   "version": "3.10.11"
  }
 },
 "nbformat": 4,
 "nbformat_minor": 2
}
